{
 "cells": [
  {
   "cell_type": "code",
   "execution_count": 1,
   "id": "c59b3a99-1e52-4092-9fae-3601d3ac1955",
   "metadata": {},
   "outputs": [
    {
     "name": "stderr",
     "output_type": "stream",
     "text": [
      "C:\\Users\\mfaishaldp\\anaconda3\\lib\\site-packages\\gensim\\similarities\\__init__.py:15: UserWarning: The gensim.similarities.levenshtein submodule is disabled, because the optional Levenshtein package <https://pypi.org/project/python-Levenshtein/> is unavailable. Install Levenhstein (e.g. `pip install python-Levenshtein`) to suppress this warning.\n",
      "  warnings.warn(msg)\n"
     ]
    }
   ],
   "source": [
    "import pandas as pd\n",
    "import gensim\n",
    "from gensim.models import FastText\n",
    "\n",
    "import pandas as pd\n",
    "import sklearn\n",
    "import numpy as np\n",
    "from sklearn.feature_extraction.text import TfidfVectorizer\n",
    "\n",
    "from sklearn.model_selection import GridSearchCV\n",
    "from sklearn.model_selection import cross_val_score\n",
    "from sklearn.linear_model import LogisticRegression\n",
    "from sklearn.metrics import classification_report, accuracy_score\n",
    "\n",
    "# LIBRARY UNTUK PREPROCESSING\n",
    "import nltk #import library nltk\n",
    "from nltk.tokenize import word_tokenize #import word_tokenize for tokenizing text into words \n",
    "from nltk.tokenize import sent_tokenize #import sent_tokenize for tokenizing paragraph into sentences\n",
    "from nltk.stem.porter import PorterStemmer #import Porter Stemmer Algorithm \n",
    "from nltk.stem import WordNetLemmatizer #import WordNet lemmatizer \n",
    "from nltk.corpus import stopwords #import stopwords\n",
    "from Sastrawi.Stemmer.StemmerFactory import StemmerFactory #import Indonesian Stemmer\n",
    "import re,string #import regular expression\n",
    "\n",
    "import gensim\n",
    "from gensim.models import KeyedVectors\n",
    "from tqdm import tqdm"
   ]
  },
  {
   "cell_type": "code",
   "execution_count": 2,
   "id": "669542db-d0c4-433f-bb08-189ec11803f1",
   "metadata": {},
   "outputs": [],
   "source": [
    "dta = pd.read_csv('new_Data - Bismillah - Stemming.csv')\n",
    "dtf = dta"
   ]
  },
  {
   "cell_type": "code",
   "execution_count": 3,
   "id": "9263e44d-b8c3-4f40-ac3b-ecba7d0c1958",
   "metadata": {},
   "outputs": [],
   "source": [
    "dtf.drop_duplicates(subset='Stemming', inplace = True)\n",
    "dtf.reset_index(drop=True,inplace=True)"
   ]
  },
  {
   "cell_type": "code",
   "execution_count": 4,
   "id": "bfba46f3-cdb0-42de-ab39-870f5612b964",
   "metadata": {},
   "outputs": [
    {
     "data": {
      "text/plain": [
       "0"
      ]
     },
     "execution_count": 4,
     "metadata": {},
     "output_type": "execute_result"
    }
   ],
   "source": [
    "cekDup = dtf.duplicated(subset = 'Stemming')\n",
    "cekDup.sum()"
   ]
  },
  {
   "cell_type": "code",
   "execution_count": 5,
   "id": "5b686336-7f83-4e3f-9658-adf11e72699d",
   "metadata": {},
   "outputs": [
    {
     "data": {
      "text/plain": [
       "-1    7769\n",
       " 1    6940\n",
       " 0    5649\n",
       "Name: Label, dtype: int64"
      ]
     },
     "execution_count": 5,
     "metadata": {},
     "output_type": "execute_result"
    }
   ],
   "source": [
    "dtf['Label'].value_counts()"
   ]
  },
  {
   "cell_type": "code",
   "execution_count": 6,
   "id": "b0863cd4-d6f0-4b3f-b0e2-cd69c9346993",
   "metadata": {},
   "outputs": [
    {
     "data": {
      "text/plain": [
       "Date            0\n",
       "Text            0\n",
       "Label           0\n",
       "Text Clean      1\n",
       "meaningless     1\n",
       "Case Folding    1\n",
       "normalisasi     1\n",
       "Stopword        1\n",
       "Stemming        1\n",
       "tokenizing      0\n",
       "dtype: int64"
      ]
     },
     "execution_count": 6,
     "metadata": {},
     "output_type": "execute_result"
    }
   ],
   "source": [
    "dtf.isna().sum()"
   ]
  },
  {
   "cell_type": "code",
   "execution_count": 7,
   "id": "58c7f2ae-e523-4f70-a0d9-68cbb6f704af",
   "metadata": {},
   "outputs": [],
   "source": [
    "dtf.dropna(inplace=True)"
   ]
  },
  {
   "cell_type": "code",
   "execution_count": 8,
   "id": "9a7c8ee6-be69-408f-a0f7-d4091ff6962f",
   "metadata": {},
   "outputs": [
    {
     "data": {
      "text/plain": [
       "Date            0\n",
       "Text            0\n",
       "Label           0\n",
       "Text Clean      0\n",
       "meaningless     0\n",
       "Case Folding    0\n",
       "normalisasi     0\n",
       "Stopword        0\n",
       "Stemming        0\n",
       "tokenizing      0\n",
       "dtype: int64"
      ]
     },
     "execution_count": 8,
     "metadata": {},
     "output_type": "execute_result"
    }
   ],
   "source": [
    "dtf.isna().sum()"
   ]
  },
  {
   "cell_type": "markdown",
   "id": "007a65ef-f4cf-4a9c-98c5-7209adcc0c99",
   "metadata": {},
   "source": [
    "## CEK EKSPANSI"
   ]
  },
  {
   "cell_type": "code",
   "execution_count": 9,
   "id": "1e48d1a9-50e3-4e8d-a8c6-78e2d7cc3957",
   "metadata": {},
   "outputs": [],
   "source": [
    "from sklearn.model_selection import train_test_split\n",
    "x_train, x_test, y_train, y_test = train_test_split(dtf['Stemming'], dtf['Label'], test_size=0.10, shuffle = True, random_state=12)"
   ]
  },
  {
   "cell_type": "code",
   "execution_count": 10,
   "id": "cc7d2bee-3818-4100-94c3-6eb8704bb46f",
   "metadata": {},
   "outputs": [],
   "source": [
    "#mencoba tanpa max feature\n",
    "vectorizer = TfidfVectorizer(ngram_range=(1,1), max_features = 7000)"
   ]
  },
  {
   "cell_type": "code",
   "execution_count": 11,
   "id": "8eeb6e8a-b547-4587-a181-aa47f0811cbe",
   "metadata": {},
   "outputs": [],
   "source": [
    "# df_tfidf = vectorizer.fit_transform(dtf['Stemming'].astype(str))\n",
    "\n",
    "x_train_tfidf = vectorizer.fit_transform(x_train.astype(str))\n",
    "x_test_tfidf = vectorizer.transform(x_test.astype(str))"
   ]
  },
  {
   "cell_type": "code",
   "execution_count": 12,
   "id": "d01e9de9-7cc0-49e5-821a-af50bc4b39e6",
   "metadata": {},
   "outputs": [
    {
     "name": "stdout",
     "output_type": "stream",
     "text": [
      "(18321, 7000)\n",
      "(2036, 7000)\n"
     ]
    }
   ],
   "source": [
    "print(x_train_tfidf.shape)\n",
    "print(x_test_tfidf.shape)"
   ]
  },
  {
   "cell_type": "code",
   "execution_count": 13,
   "id": "f2a0588d-4a9c-4462-b0c9-d0deb80d614f",
   "metadata": {},
   "outputs": [],
   "source": [
    "# Load Model Ekspansi Fitur\n",
    "model_ef = gensim.models.KeyedVectors.load_word2vec_format('cc.id.300.vec.gz')"
   ]
  },
  {
   "cell_type": "code",
   "execution_count": 14,
   "id": "037b1100-97b7-4d14-bfc8-3ea7f15c84db",
   "metadata": {},
   "outputs": [],
   "source": [
    "# Load Model trained data actual corpus (sg = 0)\n",
    "# model_ef = FastText.load('modelft-26jan-Dataactual')"
   ]
  },
  {
   "cell_type": "code",
   "execution_count": 15,
   "id": "f0aa76ba-c05f-49bc-b041-3a587d02510f",
   "metadata": {},
   "outputs": [],
   "source": [
    "# Load Model trained gab data actual dan pretrained corpus (sg = 0)\n",
    "# model_ef = FastText.load('modelft-26jan-actualpretrained')"
   ]
  },
  {
   "cell_type": "code",
   "execution_count": 16,
   "id": "c5ef8c2f-088c-44a3-9d6b-5542627cc285",
   "metadata": {},
   "outputs": [],
   "source": [
    "def feature_expansion(df, feature):\n",
    "    for col in tqdm(df.columns): #loop per kolom\n",
    "        try: \n",
    "            sim_word = model_ef.similar_by_word(col, topn = 1) #mencari Similarity\n",
    "        except:\n",
    "            sim_word = []\n",
    "        if sim_word != []: #kalo similarity-nya tidak kosong\n",
    "            for term in [sim_word[i][0] for i in range(len(sim_word))]: #loop per-word yang ada di Similarity\n",
    "                if term in feature:\n",
    "                    #untuk semua kolom yang mempunyai nilai 0 di kolom, tetapi mempunyai nilai yang bukan 0 pada kolom term\n",
    "                    #nilainya diganti dengan nilai kolom term yang mempunyai nilai bukan 0\n",
    "                    df[col][(df[col]==0) & (df[term]!=0)] = df[term][(df[col]==0) & (df[term]!=0)]\n",
    "    return df"
   ]
  },
  {
   "cell_type": "code",
   "execution_count": 17,
   "id": "addd4e52-ff00-4759-bd36-db6e46ac9707",
   "metadata": {},
   "outputs": [],
   "source": [
    "feature_ef = vectorizer.get_feature_names()"
   ]
  },
  {
   "cell_type": "code",
   "execution_count": 18,
   "id": "1cbd5a15-8819-444a-81ae-368afac24167",
   "metadata": {},
   "outputs": [],
   "source": [
    "# Membuat dataframe data test & train\n",
    "\n",
    "df_x_train_tfidf = pd.DataFrame(x_train_tfidf.todense(), columns = feature_ef)\n",
    "df_x_test_tfidf = pd.DataFrame(x_test_tfidf.todense(), columns = feature_ef)"
   ]
  },
  {
   "cell_type": "code",
   "execution_count": 19,
   "id": "8f91b870-21dd-45d0-b4dc-6c225c51bcce",
   "metadata": {},
   "outputs": [],
   "source": [
    "# Membuat Model Logistic Regression\n",
    "logreg = LogisticRegression()"
   ]
  },
  {
   "cell_type": "code",
   "execution_count": 20,
   "id": "6cb3a95b-9ab5-4293-a6a9-3d9e8343d489",
   "metadata": {},
   "outputs": [
    {
     "name": "stderr",
     "output_type": "stream",
     "text": [
      "100%|██████████| 7000/7000 [13:39<00:00,  8.54it/s]\n"
     ]
    }
   ],
   "source": [
    "df_x_train_ef = feature_expansion(df_x_train_tfidf, feature_ef)"
   ]
  },
  {
   "cell_type": "code",
   "execution_count": 21,
   "id": "ecc75fd0-0812-4f5a-9731-6bb26940ba3a",
   "metadata": {},
   "outputs": [
    {
     "name": "stderr",
     "output_type": "stream",
     "text": [
      "100%|██████████| 7000/7000 [13:51<00:00,  8.42it/s]\n"
     ]
    }
   ],
   "source": [
    "df_x_test_ef = feature_expansion(df_x_test_tfidf, feature_ef)"
   ]
  },
  {
   "cell_type": "code",
   "execution_count": 22,
   "id": "21c282a7-e35f-45f5-a1c4-ca6f536c5b82",
   "metadata": {},
   "outputs": [
    {
     "name": "stdout",
     "output_type": "stream",
     "text": [
      "Fitting 5 folds for each of 1 candidates, totalling 5 fits\n",
      "[CV 1/5] END C=1, max_iter=10000, multi_class=ovr, penalty=l2, solver=saga; total time= 2.4min\n",
      "[CV 2/5] END C=1, max_iter=10000, multi_class=ovr, penalty=l2, solver=saga; total time= 2.6min\n",
      "[CV 3/5] END C=1, max_iter=10000, multi_class=ovr, penalty=l2, solver=saga; total time= 2.2min\n",
      "[CV 4/5] END C=1, max_iter=10000, multi_class=ovr, penalty=l2, solver=saga; total time= 2.3min\n",
      "[CV 5/5] END C=1, max_iter=10000, multi_class=ovr, penalty=l2, solver=saga; total time= 1.7min\n"
     ]
    },
    {
     "data": {
      "text/plain": [
       "GridSearchCV(cv=5, estimator=LogisticRegression(),\n",
       "             param_grid={'C': [1], 'max_iter': [10000], 'multi_class': ['ovr'],\n",
       "                         'penalty': ['l2'], 'solver': ['saga']},\n",
       "             verbose=3)"
      ]
     },
     "execution_count": 22,
     "metadata": {},
     "output_type": "execute_result"
    }
   ],
   "source": [
    "ef_params = {'penalty' : ['l2'],\n",
    "            'C' : [1],\n",
    "            'solver' : ['saga'],\n",
    "            'multi_class' : ['ovr'],\n",
    "            'max_iter' : [10000]}\n",
    "\n",
    "ef_clf = GridSearchCV(logreg, ef_params, refit = True, verbose = 3, cv=5)\n",
    "ef_clf.fit(df_x_train_ef,y_train)"
   ]
  },
  {
   "cell_type": "code",
   "execution_count": 23,
   "id": "eb98095d-8466-4620-aa59-b2f484309a8a",
   "metadata": {},
   "outputs": [],
   "source": [
    "y_predi_ef = ef_clf.predict(df_x_test_ef)"
   ]
  },
  {
   "cell_type": "code",
   "execution_count": 24,
   "id": "4c3d1405-5801-4b47-8596-014c29c5fc1c",
   "metadata": {},
   "outputs": [
    {
     "name": "stdout",
     "output_type": "stream",
     "text": [
      "              precision    recall  f1-score   support\n",
      "\n",
      "          -1       0.72      0.84      0.77       764\n",
      "           0       0.63      0.53      0.58       602\n",
      "           1       0.79      0.75      0.77       670\n",
      "\n",
      "    accuracy                           0.72      2036\n",
      "   macro avg       0.71      0.71      0.71      2036\n",
      "weighted avg       0.71      0.72      0.71      2036\n",
      "\n"
     ]
    }
   ],
   "source": [
    "print(classification_report(y_test, y_predi_ef))"
   ]
  },
  {
   "cell_type": "code",
   "execution_count": 25,
   "id": "b2333cf6-9b56-42af-bdcb-dcacdf216299",
   "metadata": {},
   "outputs": [
    {
     "data": {
      "text/plain": [
       "0.7180746561886051"
      ]
     },
     "execution_count": 25,
     "metadata": {},
     "output_type": "execute_result"
    }
   ],
   "source": [
    "accuracy_score(y_test, y_predi_ef)"
   ]
  },
  {
   "cell_type": "markdown",
   "id": "aae0a3d0-69c0-4b65-8368-d048cf273c50",
   "metadata": {},
   "source": [
    "## Cek nilai intercept(w0) , coef (wp)"
   ]
  },
  {
   "cell_type": "code",
   "execution_count": 26,
   "id": "814bc696-56d4-48d8-9214-fedef58d2b85",
   "metadata": {},
   "outputs": [
    {
     "data": {
      "text/plain": [
       "LogisticRegression(C=1, max_iter=10000, multi_class='ovr', solver='saga')"
      ]
     },
     "execution_count": 26,
     "metadata": {},
     "output_type": "execute_result"
    }
   ],
   "source": [
    "lr = LogisticRegression(penalty='l2', C=1, solver='saga', max_iter=10000, multi_class='ovr')\n",
    "lr.fit(df_x_train_ef,y_train)"
   ]
  },
  {
   "cell_type": "code",
   "execution_count": 27,
   "id": "eb075e7c-c5b6-43e3-83c0-41a4113a96df",
   "metadata": {},
   "outputs": [],
   "source": [
    "y_predi_ef_new = lr.predict(df_x_test_ef)"
   ]
  },
  {
   "cell_type": "code",
   "execution_count": 28,
   "id": "f3bb789b-2501-434f-9ebd-65840903735d",
   "metadata": {},
   "outputs": [
    {
     "name": "stdout",
     "output_type": "stream",
     "text": [
      "              precision    recall  f1-score   support\n",
      "\n",
      "          -1       0.72      0.84      0.77       764\n",
      "           0       0.63      0.53      0.58       602\n",
      "           1       0.79      0.75      0.77       670\n",
      "\n",
      "    accuracy                           0.72      2036\n",
      "   macro avg       0.71      0.71      0.71      2036\n",
      "weighted avg       0.71      0.72      0.71      2036\n",
      "\n"
     ]
    }
   ],
   "source": [
    "print(classification_report(y_test, y_predi_ef_new))"
   ]
  },
  {
   "cell_type": "code",
   "execution_count": 29,
   "id": "738f3698-5600-4037-a424-ec2bb38d9592",
   "metadata": {},
   "outputs": [
    {
     "data": {
      "text/plain": [
       "0.7180746561886051"
      ]
     },
     "execution_count": 29,
     "metadata": {},
     "output_type": "execute_result"
    }
   ],
   "source": [
    "accuracy_score(y_test, y_predi_ef_new)"
   ]
  },
  {
   "cell_type": "code",
   "execution_count": 30,
   "id": "ddee95b6-1825-403f-92a6-f86953d7f718",
   "metadata": {},
   "outputs": [
    {
     "name": "stdout",
     "output_type": "stream",
     "text": [
      "[-1  0  1]\n"
     ]
    }
   ],
   "source": [
    "print(lr.classes_)"
   ]
  },
  {
   "cell_type": "code",
   "execution_count": 31,
   "id": "7e485693-bfed-4140-911c-5479fdaa5136",
   "metadata": {},
   "outputs": [
    {
     "name": "stdout",
     "output_type": "stream",
     "text": [
      "[-0.9742267  -0.0151603  -1.49498743]\n"
     ]
    }
   ],
   "source": [
    "#W0\n",
    "print(lr.intercept_)"
   ]
  },
  {
   "cell_type": "code",
   "execution_count": 32,
   "id": "4b0825c1-5f3a-403a-a420-3747bdea00e4",
   "metadata": {},
   "outputs": [
    {
     "name": "stdout",
     "output_type": "stream",
     "text": [
      "[[-0.11697668 -0.23284422  0.14729029 ... -0.00825756 -0.45683273\n",
      "   0.08156204]\n",
      " [ 0.31487428  0.37215244  0.04929144 ... -0.07852135  0.44320813\n",
      "  -0.10596031]\n",
      " [-0.21519281 -0.13489993 -0.15241508 ...  0.09036992 -0.01131184\n",
      "  -0.0137427 ]]\n"
     ]
    }
   ],
   "source": [
    "#Wp\n",
    "print(lr.coef_)"
   ]
  },
  {
   "cell_type": "code",
   "execution_count": 33,
   "id": "b36668bf-814e-4a81-b4af-a67220476d7a",
   "metadata": {},
   "outputs": [
    {
     "data": {
      "text/plain": [
       "array([[-0.11697668,  0.31487428, -0.21519281],\n",
       "       [-0.23284422,  0.37215244, -0.13489993],\n",
       "       [ 0.14729029,  0.04929144, -0.15241508],\n",
       "       ...,\n",
       "       [-0.45683273,  0.44320813, -0.01131184],\n",
       "       [ 0.08156204, -0.10596031, -0.0137427 ],\n",
       "       [-0.9742267 , -0.0151603 , -1.49498743]])"
      ]
     },
     "execution_count": 33,
     "metadata": {},
     "output_type": "execute_result"
    }
   ],
   "source": [
    "cek_coef = np.vstack((lr.coef_.T, lr.intercept_))\n",
    "cek_coef"
   ]
  }
 ],
 "metadata": {
  "kernelspec": {
   "display_name": "Python 3",
   "language": "python",
   "name": "python3"
  },
  "language_info": {
   "codemirror_mode": {
    "name": "ipython",
    "version": 3
   },
   "file_extension": ".py",
   "mimetype": "text/x-python",
   "name": "python",
   "nbconvert_exporter": "python",
   "pygments_lexer": "ipython3",
   "version": "3.8.8"
  }
 },
 "nbformat": 4,
 "nbformat_minor": 5
}
